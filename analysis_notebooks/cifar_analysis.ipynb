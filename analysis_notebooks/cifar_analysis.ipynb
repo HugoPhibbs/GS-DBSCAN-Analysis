{
 "cells": [
  {
   "cell_type": "code",
   "execution_count": 2,
   "metadata": {},
   "outputs": [],
   "source": [
    "PROJECT_ROOT = \"../\"\n",
    "import sys\n",
    "# The following line adds the parent directory to the python path.\n",
    "sys.path.insert(0, PROJECT_ROOT) "
   ]
  },
  {
   "cell_type": "code",
   "execution_count": 3,
   "metadata": {},
   "outputs": [
    {
     "data": {
      "text/plain": [
       "<module 'src.experiment.dataset_experiments.mnist_experiments' from '/home/hphi344/Documents/GS-DBSCAN-Analysis/analysis_notebooks/../src/experiment/dataset_experiments/mnist_experiments.py'>"
      ]
     },
     "execution_count": 3,
     "metadata": {},
     "output_type": "execute_result"
    }
   ],
   "source": [
    "from importlib import reload\n",
    "import src.experiment.sample_utils as su\n",
    "import src.experiment.experiment_utils as exp\n",
    "import src.dataset_handling.cifar10.write_cifar10 as wc\n",
    "import src.experiment.dataset_experiments.mnist_experiments as m_exp\n",
    "\n",
    "reload(su)\n",
    "reload(exp)\n",
    "reload(wc)\n",
    "reload(m_exp)"
   ]
  },
  {
   "cell_type": "code",
   "execution_count": null,
   "metadata": {},
   "outputs": [],
   "source": []
  }
 ],
 "metadata": {
  "kernelspec": {
   "display_name": "venv",
   "language": "python",
   "name": "python3"
  },
  "language_info": {
   "codemirror_mode": {
    "name": "ipython",
    "version": 3
   },
   "file_extension": ".py",
   "mimetype": "text/x-python",
   "name": "python",
   "nbconvert_exporter": "python",
   "pygments_lexer": "ipython3",
   "version": "3.8.10"
  }
 },
 "nbformat": 4,
 "nbformat_minor": 2
}
