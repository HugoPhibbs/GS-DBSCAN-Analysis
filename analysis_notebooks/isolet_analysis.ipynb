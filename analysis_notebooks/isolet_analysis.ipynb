{
 "cells": [
  {
   "cell_type": "code",
   "execution_count": 2,
   "metadata": {},
   "outputs": [],
   "source": [
    "PROJECT_ROOT = \"../\"\n",
    "import sys\n",
    "# The following line adds the parent directory to the python path.\n",
    "sys.path.insert(0, PROJECT_ROOT) "
   ]
  },
  {
   "cell_type": "code",
   "execution_count": 3,
   "metadata": {},
   "outputs": [
    {
     "data": {
      "text/plain": [
       "<module 'src.experiment.dataset_experiments.mnist_experiments' from '/home/hphi344/Documents/GS-DBSCAN-Analysis/analysis_notebooks/../src/experiment/dataset_experiments/mnist_experiments.py'>"
      ]
     },
     "execution_count": 3,
     "metadata": {},
     "output_type": "execute_result"
    }
   ],
   "source": [
    "from importlib import reload\n",
    "import src.experiment.sample_utils as su\n",
    "import src.experiment.experiment_utils as exp\n",
    "import src.dataset_handling.isolet.write_isolet as wi\n",
    "import src.experiment.dataset_experiments.mnist_experiments as m_exp\n",
    "import src.experiment.experiment_cpu as exp_cpu\n",
    "\n",
    "reload(exp_cpu)\n",
    "reload(su)\n",
    "reload(exp)\n",
    "reload(wi)\n",
    "reload(m_exp)"
   ]
  },
  {
   "cell_type": "code",
   "execution_count": 11,
   "metadata": {},
   "outputs": [],
   "source": [
    "k = 5\n",
    "m = 200\n",
    "minPts = 50\n",
    "eps = 0.12\n",
    "\n",
    "parquet_name = f\"isolet_{k}_{m}_{eps}_{minPts}\"\n",
    "dtype = \"f32\"\n",
    "\n",
    "isolet_data = f\"/home/hphi344/Documents/GS-DBSCAN-Analysis/data/isolet/isolet_data_{dtype}.bin\"\n",
    "isolet_labels = f\"/home/hphi344/Documents/GS-DBSCAN-Analysis/data/isolet/isolet_labels_{dtype}.bin\""
   ]
  },
  {
   "cell_type": "code",
   "execution_count": 4,
   "metadata": {},
   "outputs": [
    {
     "name": "stdout",
     "output_type": "stream",
     "text": [
      "Running GS-DBSCAN\n",
      "\n",
      "/home/hphi344/Documents/GS-DBSCAN-CPP/build-release/GS-DBSCAN --datasetFilename /home/hphi344/Documents/GS-DBSCAN-Analysis/data/isolet/isolet_data_f16.bin --outputFilename /home/hphi344/Documents/GS-DBSCAN-Analysis/results/results__isolet_data_f16_n7797_d617_D1024_mp50_k5_m200_e0.1200.json --n 7797 --d 617 --D 1024 --minPts 50 --k 5 --m 200 --eps 0.12 --alpha 1.2 --distancesBatchSize 100 --distanceMetric COSINE --clusterBlockSize 256 --datasetDType f16 --miniBatchSize 10000 --ABatchSize 10000 --BBatchSize 28 --normBatchSize 10000 --sigmaEmbed 1 --clusterOnCpu --needToNormalize --useBatchClustering --useBatchABMatrices --useBatchNorm --timeIt\n",
      "Standard Output:\n",
      " Running GsDBSCAN-CPP\n",
      "Params: \n",
      "\n",
      "## PARAMS ##\n",
      "\n",
      "Data Filename: /home/hphi344/Documents/GS-DBSCAN-Analysis/data/isolet/isolet_data_f16.bin\n",
      "Output Filename: /home/hphi344/Documents/GS-DBSCAN-Analysis/results/results__isolet_data_f16_n7797_d617_D1024_mp50_k5_m200_e0.1200.json\n",
      "n: 7797\n",
      "d: 617\n",
      "D: 1024\n",
      "minPts: 50\n",
      "k: 5\n",
      "m: 200\n",
      "Epsilon (eps) (adjusted): 0.88\n",
      "Alpha: 1.2\n",
      "Distances Batch Size: 100\n",
      "Distance Metric: COSINE\n",
      "Cluster Block Size: 256\n",
      "Time It: true\n",
      "Cluster On CPU: true\n",
      "Need to Normalise: true\n",
      "Fourier Embed Dimension: 1024\n",
      "Sigma Embed: 1\n",
      "A Batch Size: 10000\n",
      "B Batch Size: 28\n",
      "Mini Batch Size: 10000\n",
      "Norm Batch Size: 10000\n",
      "Verbose: false\n",
      "Use Batch Clustering: true\n",
      "Use batch creation of A, B matrices: true\n",
      "Use batch normalisation: true\n",
      "Ignore Adjacency List Symmetry: false\n",
      "Dataset DType: f16\n",
      "\n",
      "Times: {\n",
      "    \"copyingAndConvertData\": 413821,\n",
      "    \"normalise\": 32912,\n",
      "    \"constructABMatrices\": 269893,\n",
      "    \"degArray\": 5912,\n",
      "    \"startIdxArray\": 459,\n",
      "    \"adjList\": 948,\n",
      "    \"totalTimeDistances\": 250984,\n",
      "    \"totalTimeCopyMerge\": 69,\n",
      "    \"copyClusteringArrays\": 478,\n",
      "    \"processAdjacencyList\": 14844,\n",
      "    \"formClusters\": 317,\n",
      "    \"overall\": 991179\n",
      "}\n",
      "NumClusters: 5\n",
      "\n",
      "Execution successful\n",
      "Times...\n",
      "adjList: 0.00\n",
      "constructABMatrices: 0.27\n",
      "copyClusteringArrays: 0.00\n",
      "copyingAndConvertData: 0.41\n",
      "degArray: 0.01\n",
      "formClusters: 0.00\n",
      "normalise: 0.03\n",
      "overall: 0.99\n",
      "processAdjacencyList: 0.01\n",
      "startIdxArray: 0.00\n",
      "totalTimeCopyMerge: 0.00\n",
      "totalTimeDistances: 0.25\n",
      "\n",
      "\n",
      "Number of clusters:  5\n",
      "\n",
      "\n",
      "NMI:  0    0.264818\n",
      "Name: nmi, dtype: float64\n",
      "\n",
      "\n"
     ]
    },
    {
     "data": {
      "text/html": [
       "<div>\n",
       "<style scoped>\n",
       "    .dataframe tbody tr th:only-of-type {\n",
       "        vertical-align: middle;\n",
       "    }\n",
       "\n",
       "    .dataframe tbody tr th {\n",
       "        vertical-align: top;\n",
       "    }\n",
       "\n",
       "    .dataframe thead th {\n",
       "        text-align: right;\n",
       "    }\n",
       "</style>\n",
       "<table border=\"1\" class=\"dataframe\">\n",
       "  <thead>\n",
       "    <tr style=\"text-align: right;\">\n",
       "      <th></th>\n",
       "      <th>args</th>\n",
       "      <th>clusterLabels</th>\n",
       "      <th>numClusters</th>\n",
       "      <th>times</th>\n",
       "      <th>params</th>\n",
       "      <th>nmi</th>\n",
       "    </tr>\n",
       "  </thead>\n",
       "  <tbody>\n",
       "    <tr>\n",
       "      <th>0</th>\n",
       "      <td>\\n\\n## PARAMS ##\\n\\nData Filename: /home/hphi3...</td>\n",
       "      <td>[-1, -1, 0, 0, -1, -1, 0, 0, 0, -1, -1, -1, 0,...</td>\n",
       "      <td>5</td>\n",
       "      <td>{'adjList': 948, 'constructABMatrices': 269893...</td>\n",
       "      <td>{'d': 617, 'minPts': 50, 'alpha': 1.2, 'distan...</td>\n",
       "      <td>0.264818</td>\n",
       "    </tr>\n",
       "  </tbody>\n",
       "</table>\n",
       "</div>"
      ],
      "text/plain": [
       "                                                args  \\\n",
       "0  \\n\\n## PARAMS ##\\n\\nData Filename: /home/hphi3...   \n",
       "\n",
       "                                       clusterLabels  numClusters  \\\n",
       "0  [-1, -1, 0, 0, -1, -1, 0, 0, 0, -1, -1, -1, 0,...            5   \n",
       "\n",
       "                                               times  \\\n",
       "0  {'adjList': 948, 'constructABMatrices': 269893...   \n",
       "\n",
       "                                              params       nmi  \n",
       "0  {'d': 617, 'minPts': 50, 'alpha': 1.2, 'distan...  0.264818  "
      ]
     },
     "execution_count": 4,
     "metadata": {},
     "output_type": "execute_result"
    }
   ],
   "source": [
    "params = exp.RunParams(datasetFilename=isolet_data, labels_filename=isolet_labels, n=wi.ISOLET_N, d=wi.ISOLET_DIM, D=1024, minPts=minPts, k=k, m=m, eps=eps, alpha=1.2,\n",
    "                        distancesBatchSize=100, distanceMetric=\"COSINE\",\n",
    "                        clusterBlockSize=256, clusterOnCpu=True, needToNormalize=True, print_cmd=True,\n",
    "                        verbose=False, useBatchDbscan=True, timeIt=True, useBatchABMatrices=True,\n",
    "                        useBatchNorm=True,\n",
    "                        datasetDType=dtype, ABatchSize=10_000, BBatchSize=28, miniBatchSize=10_000, normBatchSize=10_000, ignoreAdjListSymmetry=False)\n",
    "\n",
    "exp.run_complete_sdbscan_pipeline(params, parquet_name)"
   ]
  },
  {
   "cell_type": "code",
   "execution_count": 16,
   "metadata": {},
   "outputs": [],
   "source": [
    "d = wi.ISOLET_DIM\n",
    "eps = 0.12\n",
    "minPts = 50\n",
    "k = 5\n",
    "m = 200\n",
    "numThreads = 64 # For testing, set to 64 for full run\n",
    "dist = \"Cosine\"\n",
    "\n",
    "run_params_cpu = exp_cpu.CpuRunParams(d, eps, minPts, 1024, k, m, numThreads, dist, datasetFilename=isolet_data, verbose=True,\n",
    "                            output_file=f\"/home/hphi344/Documents/GS-DBSCAN-Analysis/results/isolet/isolet_cpu_k{k}_m{m}_nt{numThreads}_eps{eps}\", file_type=\"bin\", labels_filename=isolet_labels,\n",
    "                            labels_file_type=\"bin\", interval_sampling=0, n=wi.ISOLET_N)"
   ]
  },
  {
   "cell_type": "code",
   "execution_count": 42,
   "metadata": {},
   "outputs": [
    {
     "name": "stdout",
     "output_type": "stream",
     "text": [
      "eps: 0.12\n",
      "minPts: 50\n",
      "n_points: 7797\n",
      "n_features: 617\n",
      "n_proj: 1024\n",
      "topK: 5\n",
      "topM: 200\n",
      "distance: Cosine\n",
      "cluster noise: 0\n",
      "kernel features: 617\n",
      "sigma: 2600\n",
      "interval sampling: 0\n",
      "sDbscan-1NN prob: 0\n",
      "n_threads: 64\n",
      "Check X supporting distance time = 4[ms]\n",
      "Build index time = 19[ms]\n",
      "Number of core points: 680\n",
      "Find core points time = 78[ms]\n",
      "Clustering noisy point time = 0[ms]\n",
      "Number of clusters: 7\n",
      "Form clusters time  (including clustering noise) = 0[ms]\n",
      "Writing times to file: /home/hphi344/Documents/GS-DBSCAN-Analysis/results/isolet/isolet_cpu_k5_m200_nt64_eps0.12_times.txt\n",
      "Times map written to file successfully.\n",
      "NMI: 0.27681021777697407\n",
      "{'buildIndexTime': 19000000.0, 'checkXSupportingDistanceTime': 4000000.0, 'findCorePointsTime': 78000000.0, 'formClustersTime': 0.0, 'overall': 101000000.0}\n",
      "Time: 0.11363720893859863\n"
     ]
    }
   ],
   "source": [
    "import time\n",
    "\n",
    "start = time.time()\n",
    "print(exp_cpu.run_cpu_sdbscan(run_params_cpu)[\"times\"].iloc[0])\n",
    "print(f\"Time: {time.time() - start}\")"
   ]
  },
  {
   "cell_type": "code",
   "execution_count": null,
   "metadata": {},
   "outputs": [],
   "source": []
  }
 ],
 "metadata": {
  "kernelspec": {
   "display_name": "venv",
   "language": "python",
   "name": "python3"
  },
  "language_info": {
   "codemirror_mode": {
    "name": "ipython",
    "version": 3
   },
   "file_extension": ".py",
   "mimetype": "text/x-python",
   "name": "python",
   "nbconvert_exporter": "python",
   "pygments_lexer": "ipython3",
   "version": "3.8.10"
  }
 },
 "nbformat": 4,
 "nbformat_minor": 2
}
