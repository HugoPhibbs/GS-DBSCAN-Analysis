{
 "cells": [
  {
   "cell_type": "code",
   "execution_count": 1,
   "metadata": {},
   "outputs": [],
   "source": [
    "PROJECT_ROOT = \"../\"\n",
    "import sys\n",
    "# The following line adds the parent directory to the python path.\n",
    "sys.path.insert(0, PROJECT_ROOT) "
   ]
  },
  {
   "cell_type": "code",
   "execution_count": 8,
   "metadata": {},
   "outputs": [
    {
     "data": {
      "text/plain": [
       "<module 'src.experiment.dataset_experiments.mnist_experiments' from '/home/hphi344/Documents/GS-DBSCAN-Analysis/analysis_notebooks/../src/experiment/dataset_experiments/mnist_experiments.py'>"
      ]
     },
     "execution_count": 8,
     "metadata": {},
     "output_type": "execute_result"
    }
   ],
   "source": [
    "from importlib import reload\n",
    "import src.experiment.sample_utils as su\n",
    "import src.experiment.experiment_utils as exp\n",
    "import src.dataset_handling.isolet.write_isolet as wi\n",
    "import src.experiment.dataset_experiments.mnist_experiments as m_exp\n",
    "\n",
    "reload(su)\n",
    "reload(exp)\n",
    "reload(wi)\n",
    "reload(m_exp)"
   ]
  },
  {
   "cell_type": "code",
   "execution_count": 19,
   "metadata": {},
   "outputs": [],
   "source": [
    "k = 5\n",
    "m = 50\n",
    "minPts = 50\n",
    "eps = 0.12\n",
    "\n",
    "parquet_name = f\"isolet_{k}_{m}_{eps}_{minPts}\"\n",
    "dtype = \"f16\"\n",
    "\n",
    "isolet_data = f\"/home/hphi344/Documents/GS-DBSCAN-Analysis/data/isolet/isolet_data_{dtype}.bin\"\n",
    "isolet_labels = f\"/home/hphi344/Documents/GS-DBSCAN-Analysis/data/isolet/isolet_labels_{dtype}.bin\""
   ]
  },
  {
   "cell_type": "code",
   "execution_count": 20,
   "metadata": {},
   "outputs": [
    {
     "name": "stdout",
     "output_type": "stream",
     "text": [
      "Running GS-DBSCAN\n",
      "\n",
      "/home/hphi344/Documents/GS-DBSCAN-CPP/build-release/GS-DBSCAN --datasetFilename /home/hphi344/Documents/GS-DBSCAN-Analysis/data/isolet/isolet_data_f16.bin --outputFilename /home/hphi344/Documents/GS-DBSCAN-Analysis/results/results__isolet_data_f16_n7797_d617_D1024_mp50_k5_m50_e0.12.json --n 7797 --d 617 --D 1024 --minPts 50 --k 5 --m 50 --eps 0.12 --alpha 1.2 --distancesBatchSize 100 --distanceMetric COSINE --clusterBlockSize 256 --datasetDType f16 --miniBatchSize 10000 --ABatchSize 10000 --BBatchSize 28 --normBatchSize 10000 --sigmaEmbed 1 --clusterOnCpu --needToNormalize --useBatchClustering --useBatchABMatrices --useBatchNorm --timeIt\n",
      "Standard Output:\n",
      " Running GsDBSCAN-CPP\n",
      "Params: \n",
      "\n",
      "## PARAMS ##\n",
      "\n",
      "Data Filename: /home/hphi344/Documents/GS-DBSCAN-Analysis/data/isolet/isolet_data_f16.bin\n",
      "Output Filename: /home/hphi344/Documents/GS-DBSCAN-Analysis/results/results__isolet_data_f16_n7797_d617_D1024_mp50_k5_m50_e0.12.json\n",
      "n: 7797\n",
      "d: 617\n",
      "D: 1024\n",
      "minPts: 50\n",
      "k: 5\n",
      "m: 50\n",
      "Epsilon (eps) (adjusted): 0.88\n",
      "Alpha: 1.2\n",
      "Distances Batch Size: 100\n",
      "Distance Metric: COSINE\n",
      "Cluster Block Size: 256\n",
      "Time It: true\n",
      "Cluster On CPU: true\n",
      "Need to Normalise: true\n",
      "Fourier Embed Dimension: 1024\n",
      "Sigma Embed: 1\n",
      "A Batch Size: 10000\n",
      "B Batch Size: 28\n",
      "Mini Batch Size: 10000\n",
      "Norm Batch Size: 10000\n",
      "Verbose: false\n",
      "Use Batch Clustering: true\n",
      "Use batch creation of A, B matrices: true\n",
      "Use batch normalisation: true\n",
      "Ignore Adjacency List Symmetry: false\n",
      "Dataset DType: f16\n",
      "\n",
      "Times: {\n",
      "    \"copyingAndConvertData\": 503055,\n",
      "    \"normalise\": 32443,\n",
      "    \"constructABMatrices\": 291358,\n",
      "    \"degArray\": 5893,\n",
      "    \"startIdxArray\": 409,\n",
      "    \"adjList\": 309,\n",
      "    \"totalTimeDistances\": 93576,\n",
      "    \"totalTimeCopyMerge\": 63,\n",
      "    \"copyClusteringArrays\": 224,\n",
      "    \"processAdjacencyList\": 6363,\n",
      "    \"formClusters\": 138,\n",
      "    \"overall\": 934668\n",
      "}\n",
      "NumClusters: 3\n",
      "\n",
      "Execution successful\n",
      "Times...\n",
      "adjList: 0.00\n",
      "constructABMatrices: 0.29\n",
      "copyClusteringArrays: 0.00\n",
      "copyingAndConvertData: 0.50\n",
      "degArray: 0.01\n",
      "formClusters: 0.00\n",
      "normalise: 0.03\n",
      "overall: 0.93\n",
      "processAdjacencyList: 0.01\n",
      "startIdxArray: 0.00\n",
      "totalTimeCopyMerge: 0.00\n",
      "totalTimeDistances: 0.09\n",
      "\n",
      "\n",
      "Number of clusters:  3\n",
      "\n",
      "\n",
      "NMI:  0.1995747836740141\n",
      "\n",
      "\n"
     ]
    },
    {
     "data": {
      "text/html": [
       "<div>\n",
       "<style scoped>\n",
       "    .dataframe tbody tr th:only-of-type {\n",
       "        vertical-align: middle;\n",
       "    }\n",
       "\n",
       "    .dataframe tbody tr th {\n",
       "        vertical-align: top;\n",
       "    }\n",
       "\n",
       "    .dataframe thead th {\n",
       "        text-align: right;\n",
       "    }\n",
       "</style>\n",
       "<table border=\"1\" class=\"dataframe\">\n",
       "  <thead>\n",
       "    <tr style=\"text-align: right;\">\n",
       "      <th></th>\n",
       "      <th>args</th>\n",
       "      <th>clusterLabels</th>\n",
       "      <th>numClusters</th>\n",
       "      <th>times</th>\n",
       "      <th>params</th>\n",
       "      <th>nmi</th>\n",
       "    </tr>\n",
       "  </thead>\n",
       "  <tbody>\n",
       "    <tr>\n",
       "      <th>0</th>\n",
       "      <td>\\n\\n## PARAMS ##\\n\\nData Filename: /home/hphi3...</td>\n",
       "      <td>[-1, -1, 0, 0, -1, -1, 0, 0, 0, -1, -1, -1, -1...</td>\n",
       "      <td>3</td>\n",
       "      <td>{'adjList': 309, 'constructABMatrices': 291358...</td>\n",
       "      <td>{'d': 617, 'minPts': 50, 'k': 5, 'm': 50, 'eps...</td>\n",
       "      <td>0.199575</td>\n",
       "    </tr>\n",
       "  </tbody>\n",
       "</table>\n",
       "</div>"
      ],
      "text/plain": [
       "                                                args  \\\n",
       "0  \\n\\n## PARAMS ##\\n\\nData Filename: /home/hphi3...   \n",
       "\n",
       "                                       clusterLabels  numClusters  \\\n",
       "0  [-1, -1, 0, 0, -1, -1, 0, 0, 0, -1, -1, -1, -1...            3   \n",
       "\n",
       "                                               times  \\\n",
       "0  {'adjList': 309, 'constructABMatrices': 291358...   \n",
       "\n",
       "                                              params       nmi  \n",
       "0  {'d': 617, 'minPts': 50, 'k': 5, 'm': 50, 'eps...  0.199575  "
      ]
     },
     "execution_count": 20,
     "metadata": {},
     "output_type": "execute_result"
    }
   ],
   "source": [
    "params = exp.RunParams(datasetFilename=isolet_data, labels_filename=isolet_labels, n=wi.ISOLET_N, d=wi.ISOLET_DIM, D=1024, minPts=minPts, k=k, m=m, eps=eps, alpha=1.2,\n",
    "                        distancesBatchSize=100, distanceMetric=\"COSINE\",\n",
    "                        clusterBlockSize=256, clusterOnCpu=True, needToNormalize=True, print_cmd=True,\n",
    "                        verbose=False, useBatchDbscan=True, timeIt=True, useBatchABMatrices=True,\n",
    "                        useBatchNorm=True,\n",
    "                        datasetDType=dtype, ABatchSize=10_000, BBatchSize=28, miniBatchSize=10_000, normBatchSize=10_000, ignoreAdjListSymmetry=False)\n",
    "\n",
    "exp.run_complete_sdbscan_pipeline(params, parquet_name)"
   ]
  },
  {
   "cell_type": "code",
   "execution_count": null,
   "metadata": {},
   "outputs": [],
   "source": []
  }
 ],
 "metadata": {
  "kernelspec": {
   "display_name": "venv",
   "language": "python",
   "name": "python3"
  },
  "language_info": {
   "codemirror_mode": {
    "name": "ipython",
    "version": 3
   },
   "file_extension": ".py",
   "mimetype": "text/x-python",
   "name": "python",
   "nbconvert_exporter": "python",
   "pygments_lexer": "ipython3",
   "version": "3.8.10"
  }
 },
 "nbformat": 4,
 "nbformat_minor": 2
}
