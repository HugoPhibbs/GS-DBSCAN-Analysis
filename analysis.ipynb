{
 "cells": [
  {
   "metadata": {},
   "cell_type": "raw",
   "source": "",
   "id": "8f7062b86169f8e9"
  },
  {
   "metadata": {
    "ExecuteTime": {
     "end_time": "2024-08-20T05:52:34.438514Z",
     "start_time": "2024-08-20T05:52:34.423142Z"
    }
   },
   "cell_type": "code",
   "source": [
    "import importlib\n",
    "import utils\n",
    "\n",
    "importlib.reload(utils)"
   ],
   "id": "38323a5ae9c18e1b",
   "outputs": [
    {
     "name": "stdout",
     "output_type": "stream",
     "text": [
      "Standard Output:\n",
      " Args: {\n",
      "    \"D\": 3,\n",
      "    \"clusterBlockSize\": 256,\n",
      "    \"d\": 2,\n",
      "    \"datasetFilename\": \"test_dataset.csv\",\n",
      "    \"distanceMetric\": \"euclidean\",\n",
      "    \"eps\": 0.5,\n",
      "    \"k\": 5,\n",
      "    \"m\": 6,\n",
      "    \"minPts\": 4,\n",
      "    \"n\": 100,\n",
      "    \"outFile\": \"results.json\",\n",
      "    \"timeIt\": 1\n",
      "}\n",
      "\n",
      "Execution successful\n"
     ]
    },
    {
     "data": {
      "text/plain": [
       "<module 'utils' from '/home/hphi344/Documents/GS-DBSCAN-Analysis/utils.py'>"
      ]
     },
     "execution_count": 9,
     "metadata": {},
     "output_type": "execute_result"
    }
   ],
   "execution_count": 9
  },
  {
   "metadata": {},
   "cell_type": "code",
   "outputs": [],
   "execution_count": null,
   "source": "",
   "id": "255528d0a6add83"
  },
  {
   "metadata": {
    "ExecuteTime": {
     "end_time": "2024-08-20T05:52:36.264897Z",
     "start_time": "2024-08-20T05:52:36.252365Z"
    }
   },
   "cell_type": "code",
   "source": "utils.run_gs_dbscan(\"test_dataset.csv\", \"results.json\", 100, 2, 3, 4, 5, 6, 0.5, \"euclidean\", 256, 1)",
   "id": "deb5ab6dfe26d215",
   "outputs": [
    {
     "name": "stdout",
     "output_type": "stream",
     "text": [
      "Standard Output:\n",
      " Args: {\n",
      "    \"D\": 3,\n",
      "    \"clusterBlockSize\": 256,\n",
      "    \"d\": 2,\n",
      "    \"datasetFilename\": \"test_dataset.csv\",\n",
      "    \"distanceMetric\": \"euclidean\",\n",
      "    \"eps\": 0.5,\n",
      "    \"k\": 5,\n",
      "    \"m\": 6,\n",
      "    \"minPts\": 4,\n",
      "    \"n\": 100,\n",
      "    \"outFile\": \"results.json\",\n",
      "    \"timeIt\": 1\n",
      "}\n",
      "\n",
      "Execution successful\n"
     ]
    },
    {
     "data": {
      "text/plain": [
       "CompletedProcess(args=['../GS-DBSCAN-CPP/build/sDbscan', '--datasetFilename', 'test_dataset.csv', '--outFile', 'results.json', '--n', '100', '--d', '2', '--D', '3', '--minPts', '4', '--k', '5', '--m', '6', '--eps', '0.5', '--distanceMetric', 'euclidean', '--clusterBlockSize', '256', '--timeIt', '1'], returncode=0, stdout='Args: {\\n    \"D\": 3,\\n    \"clusterBlockSize\": 256,\\n    \"d\": 2,\\n    \"datasetFilename\": \"test_dataset.csv\",\\n    \"distanceMetric\": \"euclidean\",\\n    \"eps\": 0.5,\\n    \"k\": 5,\\n    \"m\": 6,\\n    \"minPts\": 4,\\n    \"n\": 100,\\n    \"outFile\": \"results.json\",\\n    \"timeIt\": 1\\n}\\n', stderr='')"
      ]
     },
     "execution_count": 10,
     "metadata": {},
     "output_type": "execute_result"
    }
   ],
   "execution_count": 10
  },
  {
   "metadata": {},
   "cell_type": "code",
   "outputs": [],
   "execution_count": null,
   "source": "",
   "id": "9228854cbcc12f39"
  }
 ],
 "metadata": {
  "kernelspec": {
   "display_name": "Python 3",
   "language": "python",
   "name": "python3"
  },
  "language_info": {
   "codemirror_mode": {
    "name": "ipython",
    "version": 2
   },
   "file_extension": ".py",
   "mimetype": "text/x-python",
   "name": "python",
   "nbconvert_exporter": "python",
   "pygments_lexer": "ipython2",
   "version": "2.7.6"
  }
 },
 "nbformat": 4,
 "nbformat_minor": 5
}
